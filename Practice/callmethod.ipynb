{
 "cells": [
  {
   "cell_type": "markdown",
   "id": "b114dbfc",
   "metadata": {},
   "source": [
    "https://learn.microsoft.com/en-us/training/modules/csharp-call-methods/"
   ]
  },
  {
   "cell_type": "markdown",
   "id": "92f591c3",
   "metadata": {},
   "source": [
    "#### Call method:\n",
    "\n",
    "ClassName.MethodName() where . is the member access operator to access a method defined on the class and () are the method invocation operatore.\n",
    "\n",
    "\n",
    "Stateful vs Stateless methods\n",
    "+ Stateful: relies on values stored in memory by previous lines of code that have already been executed, or they modify the state of application by updating values or storing new values in memory\n",
    "    + AKA instance methods\n",
    "+ Stateless: works without referencing or changing any values already stored in memory\n",
    "    + AKA static methods\n",
    "\n",
    "Object: an instance of a class. To create new instance of a class, use \"new\" operator."
   ]
  },
  {
   "cell_type": "code",
   "execution_count": 12,
   "id": "f782aac4",
   "metadata": {
    "vscode": {
     "languageId": "csharp"
    }
   },
   "outputs": [
    {
     "name": "stdout",
     "output_type": "stream",
     "text": [
      "2\n"
     ]
    }
   ],
   "source": [
    "// Excercise 1: Call the methods of a .NET Class\n",
    "\n",
    "// Using methods from System.Random and System.Console classes:\n",
    "Random dice = new Random();\n",
    "int roll = dice.Next(1,7);\n",
    "Console.WriteLine(roll);"
   ]
  },
  {
   "cell_type": "markdown",
   "id": "1efe27e0",
   "metadata": {},
   "source": [
    "#### Return values and parameters\n",
    "\n",
    "Methods that don't return a value -> void method\n",
    "- Return value = result of operation\n",
    "\n",
    "\n",
    "Method operations:\n",
    "- method call -> passes argument -> parameter recieves it -> method execute logic -> returns result"
   ]
  },
  {
   "cell_type": "code",
   "execution_count": 14,
   "id": "21b40101",
   "metadata": {
    "vscode": {
     "languageId": "csharp"
    }
   },
   "outputs": [
    {
     "name": "stdout",
     "output_type": "stream",
     "text": [
      "4\n"
     ]
    }
   ],
   "source": [
    "Random dice = new Random(); //instance of a class name dice\n",
    "int roll = dice.Next(1, 7); // assign random values to roll\n",
    "Console.WriteLine(roll); // print out value or roll\n"
   ]
  },
  {
   "cell_type": "markdown",
   "id": "bd8e9fc2",
   "metadata": {},
   "source": [
    "An overloaded method is defined with multiple method signatures. Overloaded methods provide different ways to call the method or provide different types of data."
   ]
  },
  {
   "cell_type": "code",
   "execution_count": 9,
   "id": "368b2994",
   "metadata": {
    "vscode": {
     "languageId": "csharp"
    }
   },
   "outputs": [
    {
     "name": "stdout",
     "output_type": "stream",
     "text": [
      "7\n",
      "\n",
      "seven\n"
     ]
    }
   ],
   "source": [
    "int number = 7;\n",
    "string text = \"seven\";\n",
    "\n",
    "Console.WriteLine(number);\n",
    "Console.WriteLine();\n",
    "Console.WriteLine(text);"
   ]
  },
  {
   "cell_type": "code",
   "execution_count": 15,
   "id": "5cd2efc8",
   "metadata": {
    "vscode": {
     "languageId": "csharp"
    }
   },
   "outputs": [
    {
     "name": "stdout",
     "output_type": "stream",
     "text": [
      "First roll: 1265380600\n",
      "Second roll: 54\n",
      "Third roll: 66\n"
     ]
    }
   ],
   "source": [
    "// Exercise 2: Values and Parameters\n",
    "\n",
    "Random dice = new Random();\n",
    "int roll1 = dice.Next();\n",
    "int roll2 = dice.Next(101);\n",
    "int roll3 = dice.Next(50, 101);\n",
    "\n",
    "Console.WriteLine($\"First roll: {roll1}\");\n",
    "Console.WriteLine($\"Second roll: {roll2}\");\n",
    "Console.WriteLine($\"Third roll: {roll3}\");"
   ]
  },
  {
   "cell_type": "code",
   "execution_count": 13,
   "id": "88512f0a",
   "metadata": {
    "vscode": {
     "languageId": "csharp"
    }
   },
   "outputs": [
    {
     "name": "stdout",
     "output_type": "stream",
     "text": [
      "600\n"
     ]
    }
   ],
   "source": [
    "// Excercise 3: Challenge\n",
    "\n",
    "int firstValue = 500;\n",
    "int secondValue = 600;\n",
    "int largerValue;\n",
    "largerValue = Math.Max(firstValue, secondValue);\n",
    "Console.WriteLine(largerValue);\n",
    "\n"
   ]
  }
 ],
 "metadata": {
  "kernelspec": {
   "display_name": ".NET (C#)",
   "language": "C#",
   "name": ".net-csharp"
  },
  "language_info": {
   "file_extension": ".cs",
   "mimetype": "text/x-csharp",
   "name": "C#",
   "pygments_lexer": "csharp",
   "version": "13.0"
  }
 },
 "nbformat": 4,
 "nbformat_minor": 5
}
