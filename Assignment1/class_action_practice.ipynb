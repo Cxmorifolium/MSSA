{
 "cells": [
  {
   "cell_type": "markdown",
   "id": "991b980a",
   "metadata": {
    "vscode": {
     "languageId": "csharp"
    }
   },
   "source": [
    "## Making an application for Tea Inventory [data frame]"
   ]
  },
  {
   "cell_type": "markdown",
   "id": "cd21330a",
   "metadata": {},
   "source": [
    "Starting small: \n",
    "Class for Tea\n",
    "+ Tea Name (Name) -> string\n",
    "+ Tea Brand (Name) -> string\n",
    "+ Tea Type (Name) -> string\n",
    "+ Origin (Location) -> string\n",
    "+ Caffeine level (low, medium, high) -> string OR actual value int/decimal\n",
    "+ Price per gram -> decimal\n",
    "+ Harvest date -> datetime\n",
    "+ Quantity Stock -> int\n"
   ]
  },
  {
   "cell_type": "code",
   "execution_count": null,
   "id": "acad5a8f",
   "metadata": {
    "polyglot_notebook": {
     "kernelName": "csharp"
    },
    "vscode": {
     "languageId": "polyglot-notebook"
    }
   },
   "outputs": [],
   "source": [
    "using System;\n",
    "\n",
    "class Tea {\n",
    "    public string Name { get; set; }\n",
    "    public string Brand { get; set; }\n",
    "    public string Type { get; set; }\n",
    "    public string Origin { get; set; }\n",
    "    public int CaffeineLevel { get; set; }\n",
    "    public decimal PricePerGram { get; set; }\n",
    "    public DateTime HarvestDate { get; set; }\n",
    "    public int QuantityStock { get; set; }\n",
    "}"
   ]
  },
  {
   "cell_type": "markdown",
   "id": "5447381c",
   "metadata": {},
   "source": [
    "Class for TeaBlend\n",
    "+ Tea Name (Name) -> string\n",
    "+ Tea Brand (Name) -> string\n",
    "+ Tea Type (Name) -> string\n",
    "+ Add Ingredients (Name) -> string\n",
    "+ Origin (Location) -> string\n",
    "+ Caffeine level (low, medium, high) -> string OR actual value int/decimal\n",
    "+ Price per gram -> decimal\n",
    "+ Harvest date -> datetime\n",
    "+ Quantity Stock -> int\n",
    "\n",
    "could use inheritance method (?)"
   ]
  },
  {
   "cell_type": "code",
   "execution_count": null,
   "id": "6460af02",
   "metadata": {
    "polyglot_notebook": {
     "kernelName": "csharp"
    },
    "vscode": {
     "languageId": "polyglot-notebook"
    }
   },
   "outputs": [],
   "source": [
    "class TeaBlend {\n",
    "    public string Name { get; set; }\n",
    "    public string Brand { get; set; }\n",
    "    public string Type { get; set; }\n",
    "    public string AddIngredients {get; set; }\n",
    "    public string Origin { get; set; }\n",
    "    public int CaffeineLevel { get; set; }\n",
    "    public decimal PricePerGram { get; set; }\n",
    "    public DateTime HarvestDate { get; set; }\n",
    "    public int QuantityStock { get; set; }\n",
    "    // List will store indiv. tea objects that make up blend!\n",
    "    public List<Tea> Ingredients { get; set; } = new List<Tea>(); // Learning something new\n",
    "}"
   ]
  },
  {
   "cell_type": "code",
   "execution_count": null,
   "id": "8d6c4f3c",
   "metadata": {
    "polyglot_notebook": {
     "kernelName": "csharp"
    },
    "vscode": {
     "languageId": "polyglot-notebook"
    }
   },
   "outputs": [],
   "source": [
    "// Inheritance method:\n",
    "\n",
    "class TeaBlend : Tea\n",
    "{\n",
    "    public List<Tea> Ingredients { get; set; } = new List<Tea>(); // Learning something new.\n",
    "}"
   ]
  },
  {
   "cell_type": "markdown",
   "id": "32ed85d7",
   "metadata": {},
   "source": [
    "Class for Customer\n",
    "+ Name\n",
    "+ Email\n",
    "+ DateofPurchase\n",
    "+ TeaPurchased"
   ]
  },
  {
   "cell_type": "code",
   "execution_count": null,
   "id": "e99349ca",
   "metadata": {
    "polyglot_notebook": {
     "kernelName": "csharp"
    },
    "vscode": {
     "languageId": "polyglot-notebook"
    }
   },
   "outputs": [],
   "source": [
    "class Customer {\n",
    "    public string FirstName { get; set; }\n",
    "    public string LastName { get; set; }\n",
    "    public string Brand { get; set; }\n",
    "    public char EmailAddress { get; set; }\n",
    "    public DateTime DateOfPurchase {get; set; }\n",
    "    //tea purchase prob ref to list\n",
    "}"
   ]
  },
  {
   "cell_type": "markdown",
   "id": "f1954ad2",
   "metadata": {},
   "source": [
    "Methods?\n",
    "\n",
    "+ Sell\n",
    "+ Restock\n",
    "+ AddIngredients\n",
    "+ RemoveIngredients\n",
    "+ DisplayInfo\n",
    "+ DisplayIngredients\n",
    "+ Create\n",
    "+ Remove\n",
    "+ Update"
   ]
  },
  {
   "cell_type": "code",
   "execution_count": null,
   "id": "ea75530e",
   "metadata": {
    "polyglot_notebook": {
     "kernelName": "csharp"
    },
    "vscode": {
     "languageId": "polyglot-notebook"
    }
   },
   "outputs": [],
   "source": [
    "void Sell (int Amount);\n",
    "\n",
    "void Restock (int Amount);\n",
    "\n",
    "void AddIngredient (Tea tea);\n",
    "\n",
    "void RemoveIngredients (Tea tea);\n",
    "\n",
    "void DisplayInfo () ;\n",
    "\n",
    "void DisplayIngredients ();\n",
    "\n",
    "void CreateTea (string, string, int, fldhfdfdljfhdfj);\n",
    "\n",
    "void RemoveTea (string, string, int, fldhfdfdljfhdfj);\n",
    "\n",
    "void UpdateTea (string, string, int, fldhfdfdljfhdfj);"
   ]
  },
  {
   "cell_type": "markdown",
   "id": "e481271d",
   "metadata": {},
   "source": [
    "### Namespace"
   ]
  },
  {
   "cell_type": "markdown",
   "id": "9155e76c",
   "metadata": {},
   "source": [
    "The namespace keyword is used to declare a scope that contains a set of related objects. You can use a namespace to organize code elements and to create globally unique types.\n",
    "\n",
    "Namespaces are implicitly public and the declaration of a namespace cannot include any access modifiers.\n",
    "\n",
    "To use a class or other type from a namespace, you either fully qualify it or use the using directive.\n",
    "\n",
    "EX:\n",
    "using_directive\n",
    "+ : using_alias_directive\n",
    "+ | using_namespace_directive\n",
    "+ | using_static_directive    \n",
    "+ ;\n",
    "\n",
    "File scoped namespace declarations enable you to declare that all types in a file are in a single namespace. "
   ]
  },
  {
   "cell_type": "code",
   "execution_count": null,
   "id": "4666bb3a",
   "metadata": {
    "polyglot_notebook": {
     "kernelName": "csharp"
    },
    "vscode": {
     "languageId": "polyglot-notebook"
    }
   },
   "outputs": [],
   "source": [
    "namespace MyCompany.Proj1\n",
    "{\n",
    "    class MyClass\n",
    "    {\n",
    "    }\n",
    "}\n",
    "\n",
    "namespace MyCompany.Proj1\n",
    "{\n",
    "    class MyClass1\n",
    "    {\n",
    "    }\n",
    "}"
   ]
  },
  {
   "cell_type": "markdown",
   "id": "e3517585",
   "metadata": {},
   "source": []
  }
 ],
 "metadata": {
  "kernelspec": {
   "display_name": ".NET (C#)",
   "language": "C#",
   "name": ".net-csharp"
  },
  "language_info": {
   "file_extension": ".cs",
   "mimetype": "text/x-csharp",
   "name": "C#",
   "pygments_lexer": "csharp",
   "version": "13.0"
  }
 },
 "nbformat": 4,
 "nbformat_minor": 5
}
