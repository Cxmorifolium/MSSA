{
 "cells": [
  {
   "cell_type": "markdown",
   "id": "24f86ec8",
   "metadata": {},
   "source": [
    "# Week 1 "
   ]
  },
  {
   "cell_type": "markdown",
   "id": "c15dceaa",
   "metadata": {},
   "source": [
    "## Basics"
   ]
  },
  {
   "cell_type": "markdown",
   "id": "61ebfb86",
   "metadata": {},
   "source": [
    "### Data Types\n",
    "https://learn.microsoft.com/en-us/office/vba/language/reference/user-interface-help/data-type-summary\n",
    "What does 32-bit mean?\n",
    "\n",
    "A 32-bit signed integer uses 32 binary digits (bits) to store a number.\n",
    "\n",
    "+ 1 of those bits is used for the sign (positive or negative)\n",
    "\n",
    "+ 31 bits are used for the actual value\n",
    "\n",
    "\n",
    "Signed vs Unsigned:\n",
    "\n",
    "+ Signed int (int): uses 1 bit for the sign\n",
    "    + Range: -2,147,483,648 to 2,147,483,647\n",
    "\n",
    "+ Unsigned int (uint): uses all 32 bits for positive numbers only\n",
    "    + Range: 0 to 4,294,967,295 (that's 2^32 - 1)"
   ]
  },
  {
   "cell_type": "markdown",
   "id": "1f9ac44e",
   "metadata": {},
   "source": [
    "### Type Casing Conventions"
   ]
  },
  {
   "cell_type": "markdown",
   "id": "0f4cd659",
   "metadata": {},
   "source": [
    "+ Camel -> myName (used for variable names)\n",
    "+ Pascal -> MyName (used for functions or class names)"
   ]
  },
  {
   "cell_type": "markdown",
   "id": "ae892b42",
   "metadata": {},
   "source": [
    "Natural numbers = 1 - 10; what you can count\n",
    "\n",
    "+ Assignment =\n",
    "+ Expression ==\n",
    "+ Condition == boolean"
   ]
  },
  {
   "cell_type": "markdown",
   "id": "215448b4",
   "metadata": {},
   "source": [
    "### User input\n",
    "\n",
    "Console.ReadLine() -> string"
   ]
  },
  {
   "cell_type": "markdown",
   "id": "c8222cc6",
   "metadata": {},
   "source": [
    "### Array\n",
    "\n",
    "Array of size n: Last element index is n-1"
   ]
  },
  {
   "cell_type": "markdown",
   "id": "002a2919",
   "metadata": {},
   "source": [
    "### Misc"
   ]
  },
  {
   "cell_type": "markdown",
   "id": "251b83c3",
   "metadata": {},
   "source": [
    "leetcode: if problem doesn't specify: go with array. dictionary is pretty popular\n",
    "\n",
    "readline returns string (user input)\n",
    "\n",
    "The \"this\" keyword refers to the current instance of the class and is also used as a modifier of the first parameter of an extension method."
   ]
  },
  {
   "cell_type": "markdown",
   "id": "070fbc67",
   "metadata": {},
   "source": [
    "## Methods"
   ]
  },
  {
   "cell_type": "markdown",
   "id": "bd794e7e",
   "metadata": {},
   "source": [
    "A method is a block of code which only runs when it is called (aka functions)\n",
    "\n",
    "+ method parameter: variable definition\n",
    "+ method argument: what you are passing when you call method"
   ]
  },
  {
   "cell_type": "code",
   "execution_count": null,
   "id": "073d08b7",
   "metadata": {
    "polyglot_notebook": {
     "kernelName": "csharp"
    },
    "vscode": {
     "languageId": "polyglot-notebook"
    }
   },
   "outputs": [],
   "source": [
    "static void MyMethod(string fname); //fname is the parameter\n",
    "\n",
    "//When you call the method it's the argument Ex:\n",
    "MyMethod(\"djfhldjf\");\n"
   ]
  },
  {
   "cell_type": "markdown",
   "id": "802eee20",
   "metadata": {},
   "source": [
    "Method overloading, multiple methods can have the same name with different parameters:"
   ]
  },
  {
   "cell_type": "code",
   "execution_count": null,
   "metadata": {
    "polyglot_notebook": {
     "kernelName": "csharp"
    },
    "vscode": {
     "languageId": "polyglot-notebook"
    }
   },
   "outputs": [],
   "source": [
    "static int PlusMethodInt(int x, int y)\n",
    "{\n",
    "  return x + y;\n",
    "}\n",
    "\n",
    "static double PlusMethodDouble(double x, double y)\n",
    "{\n",
    "  return x + y;\n",
    "}\n",
    "\n",
    "static void Main(string[] args)\n",
    "{\n",
    "  int myNum1 = PlusMethodInt(8, 5);\n",
    "  double myNum2 = PlusMethodDouble(4.3, 6.26);\n",
    "  Console.WriteLine(\"Int: \" + myNum1);\n",
    "  Console.WriteLine(\"Double: \" + myNum2);\n",
    "}"
   ]
  },
  {
   "cell_type": "markdown",
   "id": "cb544aaf",
   "metadata": {},
   "source": [
    "## Class"
   ]
  },
  {
   "cell_type": "markdown",
   "id": "cfba62e9",
   "metadata": {},
   "source": [
    "When a variable is declared directly in a class, it is often referred to as a field (or attribute).\n",
    "\n",
    "A class with no methods is called a model class\n",
    "\n",
    "Fields and methods inside classes are often referred to as \"Class Members\":\n",
    "\n",
    "What are the main members of a class in C#?\n",
    "+ Fields = raw data\n",
    "\n",
    "+ Properties = controlled access to data\n",
    "\n",
    "+ Methods = actions the object can perform"
   ]
  },
  {
   "cell_type": "markdown",
   "id": "cc730bee",
   "metadata": {},
   "source": [
    "### Object"
   ]
  },
  {
   "cell_type": "markdown",
   "id": "2acc720a",
   "metadata": {},
   "source": [
    "An object is an instance of a class. It’s created using the new keyword and has its own copies of fields and methods."
   ]
  },
  {
   "cell_type": "markdown",
   "id": "29061e76",
   "metadata": {},
   "source": [
    "Car myCar = new Car(); // myCar is an object\n",
    "myCar.color = \"Red\";   // Accessing the field of the object\n"
   ]
  },
  {
   "cell_type": "markdown",
   "id": "0578419d",
   "metadata": {},
   "source": [
    "### Fields"
   ]
  },
  {
   "cell_type": "markdown",
   "id": "39be8566",
   "metadata": {},
   "source": [
    "A field is a variable that belongs to a class or an object.\n",
    "\n",
    "+ It holds data/state about the object.\n",
    "\n",
    "+ Usually declared inside the class, but outside any method."
   ]
  },
  {
   "cell_type": "code",
   "execution_count": null,
   "metadata": {
    "polyglot_notebook": {
     "kernelName": "csharp"
    },
    "vscode": {
     "languageId": "polyglot-notebook"
    }
   },
   "outputs": [],
   "source": [
    "class Car {\n",
    "    public string color; // This is a field\n",
    "    public int speed;    // Another field\n",
    "}\n"
   ]
  },
  {
   "cell_type": "markdown",
   "id": "6f6bc75a",
   "metadata": {},
   "source": [
    "### Properties\n",
    "\n",
    "A property is a member of a class that provides controlled access to a field."
   ]
  },
  {
   "cell_type": "markdown",
   "id": "93a36d2d",
   "metadata": {},
   "source": [
    "The class is a recipe 🍪\n",
    "\n",
    "The field is an ingredient like \"2 cups of sugar\"\n",
    "\n",
    "The constructor is the act of baking the cookie using the recipe\n",
    "\n",
    "The object is the finished cookie you can eat 😄"
   ]
  },
  {
   "cell_type": "markdown",
   "id": "58a89fc5",
   "metadata": {},
   "source": [
    "### Methods"
   ]
  },
  {
   "cell_type": "markdown",
   "id": "394e495b",
   "metadata": {},
   "source": [
    "A static method can be accessed without creating an object of the class, while public methods can only be accessed by objects.\n",
    "\n",
    "Constructor is a method used to initialized objects when they are created\n",
    "+ The constructor name must match the class name, and it cannot have a return type (like void or int)\n",
    "+ Also note that the constructor is called when the object is created.\n",
    "+ All classes have constructors by default created by C#"
   ]
  },
  {
   "cell_type": "code",
   "execution_count": null,
   "metadata": {
    "polyglot_notebook": {
     "kernelName": "csharp"
    },
    "vscode": {
     "languageId": "polyglot-notebook"
    }
   },
   "outputs": [],
   "source": [
    "class Car {\n",
    "    public string color;\n",
    "\n",
    "    // Constructor\n",
    "    public Car(string initialColor) {\n",
    "        color = initialColor; // Sets the color field\n",
    "    }\n",
    "}\n",
    "\n",
    "// Creating an object with a constructor\n",
    "Car myCar = new Car(\"Blue\");\n"
   ]
  },
  {
   "cell_type": "markdown",
   "metadata": {
    "polyglot_notebook": {
     "kernelName": "csharp"
    },
    "vscode": {
     "languageId": "polyglot-notebook"
    }
   },
   "source": [
    "### Access Modifier"
   ]
  },
  {
   "cell_type": "markdown",
   "id": "f4aab0c3",
   "metadata": {},
   "source": [
    "+ public \t    \n",
    "    + The code is accessible for all classes\n",
    "+ private\n",
    "    + The code is only accessible within the same class\n",
    "    + Default until modifer is used\n",
    "+ protected\n",
    "    + The code is accessible within the same class, or in a class that is inherited from that class.\n",
    "    + protected internal and private protected.\n",
    "+ inheritance\n",
    "    + inherit fields and methods from one class to another\n",
    "+ internal \t\n",
    "    + The code is only accessible within its own assembly, but not from another assembly."
   ]
  },
  {
   "cell_type": "markdown",
   "id": "6940b07d",
   "metadata": {},
   "source": [
    "### Enum\n",
    "\n",
    "An enum is a special \"class\" that represents a group of constants (unchangeable variables, like final variables). "
   ]
  },
  {
   "cell_type": "code",
   "execution_count": null,
   "id": "f2d884be",
   "metadata": {
    "polyglot_notebook": {
     "kernelName": "csharp"
    },
    "vscode": {
     "languageId": "polyglot-notebook"
    }
   },
   "outputs": [],
   "source": [
    "\n",
    "//EX:\n",
    "\n",
    "public class Main {\n",
    "  enum Level {\n",
    "    LOW,\n",
    "    MEDIUM,\n",
    "    HIGH\n",
    "  }\n",
    "\n",
    "  public static void main(String[] args) {\n",
    "    Level myVar = Level.MEDIUM; \n",
    "    System.out.println(myVar);\n",
    "  }\n",
    "}\n"
   ]
  },
  {
   "cell_type": "code",
   "execution_count": null,
   "metadata": {
    "polyglot_notebook": {
     "kernelName": "csharp"
    },
    "vscode": {
     "languageId": "polyglot-notebook"
    }
   },
   "outputs": [],
   "source": [
    "// Create a Car class\n",
    "class Car\n",
    "{\n",
    "  public string model;  // Create a field\n",
    "\n",
    "  // Create a class constructor for the Car class\n",
    "  public Car()\n",
    "  {\n",
    "    model = \"Mustang\"; // Set the initial value for model\n",
    "  }\n",
    "\n",
    "  static void Main(string[] args)\n",
    "  {\n",
    "    Car Ford = new Car();  // Create an object of the Car Class (this will call the constructor)\n",
    "    Console.WriteLine(Ford.model);  // Print the value of model\n",
    "  }\n",
    "}\n",
    "\n",
    "// Outputs \"Mustang\""
   ]
  },
  {
   "cell_type": "markdown",
   "id": "aa84f73a",
   "metadata": {},
   "source": [
    "## Object Oriented Programming"
   ]
  },
  {
   "cell_type": "markdown",
   "id": "2b0ab407",
   "metadata": {},
   "source": [
    "C# is an object-oriented programming language. The four basic principles of object-oriented programming are:\n",
    "\n",
    "+ Abstraction Modeling the relevant attributes and interactions of entities as classes to define an abstract representation of a + system.\n",
    "+ Encapsulation Hiding the internal state and functionality of an object and only allowing access through a public set of functions.\n",
    "+ Inheritance Ability to create new abstractions based on existing abstractions.\n",
    "+ Polymorphism Ability to implement inherited properties or methods in different ways across multiple abstractions.\n",
    "\n"
   ]
  },
  {
   "cell_type": "markdown",
   "id": "b3b97fdf",
   "metadata": {},
   "source": [
    "### Abstraction modeling"
   ]
  },
  {
   "cell_type": "markdown",
   "id": "28451f56",
   "metadata": {},
   "source": [
    "Data abstraction is the process of hiding certain details and showing only essential information to the user.\n",
    "Abstraction can be achieved with either abstract classes \"Base Class\"\n",
    "\n",
    "The abstract keyword is used for classes and methods:\n",
    "\n",
    "+ Abstract class: is a restricted class that cannot be used to create objects (to access it, it must be inherited from another class).\n",
    "\n",
    "+ Abstract method: can only be used in an abstract class, and it does not have a body. The body is provided by the derived class (inherited from).\n",
    "\n",
    "Why And When To Use Abstract Classes and Methods?\n",
    "+ To achieve security - hide certain details and only show the important details of an object.\n",
    "\n",
    "Can only be access by inheriting other class. Declaration of intent. "
   ]
  },
  {
   "cell_type": "code",
   "execution_count": null,
   "metadata": {
    "polyglot_notebook": {
     "kernelName": "csharp"
    },
    "vscode": {
     "languageId": "polyglot-notebook"
    }
   },
   "outputs": [],
   "source": [
    "// Abstract class\n",
    "abstract class Animal\n",
    "{\n",
    "  // Abstract method (does not have a body)\n",
    "  public abstract void animalSound();\n",
    "  // Regular method\n",
    "  public void sleep()\n",
    "  {\n",
    "    Console.WriteLine(\"Zzz\");\n",
    "  }\n",
    "}\n",
    "\n",
    "// Derived class (inherit from Animal)\n",
    "class Pig : Animal\n",
    "{\n",
    "  public override void animalSound()\n",
    "  {\n",
    "    // The body of animalSound() is provided here\n",
    "    Console.WriteLine(\"The pig says: wee wee\");\n",
    "  }\n",
    "}\n",
    "\n",
    "class Program\n",
    "{\n",
    "  static void Main(string[] args)\n",
    "  {\n",
    "    Pig myPig = new Pig(); // Create a Pig object\n",
    "    myPig.animalSound();  // Call the abstract method\n",
    "    myPig.sleep();  // Call the regular method\n",
    "  }\n",
    "}"
   ]
  },
  {
   "cell_type": "markdown",
   "id": "2922a5e1",
   "metadata": {},
   "source": [
    "### Encapsulation"
   ]
  },
  {
   "cell_type": "markdown",
   "id": "b2fe3a2f",
   "metadata": {},
   "source": [
    "+ \"Sensitive\" data is hidden from user by declaring fields/variables as PRIVATE. Only accessible within the class.\n",
    "+ Setting up a PUBLIC { get ; set } methods, through properties, allows you to access and update the value of a private field\n",
    "+ + Public is an access modifier and can be accessed outside of class\n",
    "\n",
    "+ + A property is like a combination of a variable and a method, and it has two methods: a get and a set method.\n",
    "\n",
    "Why Encapsulation?\n",
    "\n",
    "+ Better control of class members (reduce the possibility of yourself (or others) to mess up the code)\n",
    "+ Fields can be made read-only (if you only use the get method), or write-only (if you only use the set method)\n",
    "+ Flexible: the programmer can change one part of the code without affecting other parts\n",
    "+ Increased security of data\n"
   ]
  },
  {
   "cell_type": "code",
   "execution_count": null,
   "metadata": {
    "polyglot_notebook": {
     "kernelName": "csharp"
    },
    "vscode": {
     "languageId": "polyglot-notebook"
    }
   },
   "outputs": [],
   "source": [
    "// Example of Encapsulation\n",
    "\n",
    "using System;\n",
    "namespace RectangleApplication {\n",
    "   class Rectangle {\n",
    "      //member variables\n",
    "      private double length;\n",
    "      private double width;\n",
    "      \n",
    "      public void Acceptdetails() {\n",
    "         Console.WriteLine(\"Enter Length: \");\n",
    "         length = Convert.ToDouble(Console.ReadLine());\n",
    "         Console.WriteLine(\"Enter Width: \");\n",
    "         width = Convert.ToDouble(Console.ReadLine());\n",
    "      }\n",
    "      public double GetArea() {\n",
    "         return length * width;\n",
    "      }\n",
    "      public void Display() {\n",
    "         Console.WriteLine(\"Length: {0}\", length);\n",
    "         Console.WriteLine(\"Width: {0}\", width);\n",
    "         Console.WriteLine(\"Area: {0}\", GetArea());\n",
    "      }\n",
    "   }\n",
    "   //end class Rectangle  \n",
    "   class ExecuteRectangle {\n",
    "      static void Main(string[] args) {\n",
    "         Rectangle r = new Rectangle();\n",
    "         r.Acceptdetails();\n",
    "         r.Display();\n",
    "         Console.ReadLine();\n",
    "      }\n",
    "   }\n",
    "}"
   ]
  },
  {
   "cell_type": "markdown",
   "id": "c1ad3017",
   "metadata": {},
   "source": [
    "### Inheritance\n",
    "\n",
    "Inheritance in C# lets a class reuse code from another class by using the : symbol to extend it."
   ]
  },
  {
   "cell_type": "code",
   "execution_count": null,
   "metadata": {
    "polyglot_notebook": {
     "kernelName": "csharp"
    },
    "vscode": {
     "languageId": "polyglot-notebook"
    }
   },
   "outputs": [],
   "source": [
    "// Example of inheritance\n",
    "class Vehicle  // base class (parent) \n",
    "{\n",
    "  public string brand = \"Ford\";  // Vehicle field\n",
    "  public void honk()             // Vehicle method \n",
    "  {                    \n",
    "    Console.WriteLine(\"Tuut, tuut!\");\n",
    "  }\n",
    "}\n",
    "\n",
    "class Car : Vehicle  // derived class (child)\n",
    "{\n",
    "  public string modelName = \"Mustang\";  // Car field\n",
    "}"
   ]
  },
  {
   "cell_type": "markdown",
   "id": "779f0843",
   "metadata": {},
   "source": [
    "### Polymorphism"
   ]
  },
  {
   "cell_type": "markdown",
   "id": "59a9cedd",
   "metadata": {},
   "source": [
    "Basically when multiple classes have similar inheritance. It allows objects to be treated as instances of their parent class rather than their actual class.\n",
    "\n",
    "+ virtual: Marks a method as overridable in the base class.\n",
    "\n",
    "+ override: Overrides the base class's virtual method in a derived class.\n",
    "\n",
    "+ new: Hides the base class method (not true overriding—not polymorphism in strict sense).\n",
    "\n",
    "Two main types:\n",
    "+ Static Binding\n",
    "+ Dynamic Binding"
   ]
  },
  {
   "cell_type": "code",
   "execution_count": null,
   "metadata": {
    "polyglot_notebook": {
     "kernelName": "csharp"
    },
    "vscode": {
     "languageId": "polyglot-notebook"
    }
   },
   "outputs": [],
   "source": [
    "class Animal  // Base class (parent) \n",
    "{\n",
    "  public virtual void animalSound() \n",
    "  {\n",
    "    Console.WriteLine(\"The animal makes a sound\");\n",
    "  }\n",
    "}\n",
    "\n",
    "class Pig : Animal  // Derived class (child) \n",
    "{\n",
    "  public override void animalSound() \n",
    "  {\n",
    "    Console.WriteLine(\"The pig says: wee wee\");\n",
    "  }\n",
    "}\n",
    "\n",
    "class Dog : Animal  // Derived class (child) \n",
    "{\n",
    "  public override void animalSound() \n",
    "  {\n",
    "    Console.WriteLine(\"The dog says: bow wow\");\n",
    "  }\n",
    "}\n",
    "\n",
    "class Program \n",
    "{\n",
    "  static void Main(string[] args) \n",
    "  {\n",
    "    Animal myAnimal = new Animal();  // Create a Animal object\n",
    "    Animal myPig = new Pig();  // Create a Pig object\n",
    "    Animal myDog = new Dog();  // Create a Dog object\n",
    "\n",
    "    myAnimal.animalSound();\n",
    "    myPig.animalSound();\n",
    "    myDog.animalSound();\n",
    "  }\n",
    "}"
   ]
  },
  {
   "cell_type": "markdown",
   "id": "6e5df748",
   "metadata": {},
   "source": [
    "# WEEK 2"
   ]
  },
  {
   "cell_type": "markdown",
   "id": "2587955b",
   "metadata": {},
   "source": [
    "## Recap"
   ]
  },
  {
   "cell_type": "markdown",
   "id": "4564d1f7",
   "metadata": {},
   "source": [
    "Reference types vs Value type\n",
    "\n",
    "+ class = reference type\n",
    "+ struct = value type\n",
    "\n",
    "----\n",
    "1. Class: A class is a reference type that can inherit from other classes and is used for complex objects.\n",
    "2. Struct: A struct is a value type that cannot inherit and is used for small, simple pieces of data. \n",
    "    + Have better efficiency due to its nature of handling simple stuff\n",
    "\n",
    "3.  Value types are quicker, better performance for things such as math and boolean\n",
    "    - Holds its own copy of the data — changing one does not affect the other.\n",
    "4. Reference type variable:\n",
    "    - Holds a reference (pointer) to the actual data in memory — changing one variable affects the other.\n",
    "\n",
    "\n",
    "5. return types\n",
    "\n",
    "6. constructors: A constructor is a special method that is used to initialize objects. The advantage of a constructor, is that it is called when an object of a class is created. It can be used to set initial values for fields.\n",
    "\n",
    "7.  access modifier\n",
    "\n",
    "8. Abstract & Polymorphism"
   ]
  },
  {
   "cell_type": "markdown",
   "id": "3d6f3403",
   "metadata": {},
   "source": [
    "## System.IO"
   ]
  },
  {
   "cell_type": "markdown",
   "id": "d6c8cc5b",
   "metadata": {},
   "source": [
    "What is a file?\n",
    "- bits stored on some media\n",
    "\n",
    "try/catch -> data validation; catch any nulls and report back error to suer"
   ]
  },
  {
   "cell_type": "markdown",
   "id": "9efd2b30",
   "metadata": {},
   "source": [
    "### Automatic Memory Management"
   ]
  },
  {
   "cell_type": "markdown",
   "id": "ec5e9778",
   "metadata": {},
   "source": [
    "Recap: C# uses block scope\n",
    "+ thread of execution -> paramete -> return\n",
    "\n",
    "using () -> to disposed function correctly. executes function then cleans it properly for memory (immediate clear cache kinda)\n",
    "\n"
   ]
  },
  {
   "cell_type": "markdown",
   "id": "af7ea27e",
   "metadata": {},
   "source": [
    "How does method becomes boolean? -> every method if it completes successfully returns true"
   ]
  },
  {
   "cell_type": "markdown",
   "id": "234ea198",
   "metadata": {},
   "source": [
    "### Handling Errors"
   ]
  },
  {
   "cell_type": "markdown",
   "id": "d84b516b",
   "metadata": {},
   "source": [
    "C# uses exceptions to handle runtime errors\n",
    "\n",
    "#### Types of Errors:\n",
    "1. Type 1: Syntax Errors\n",
    "2. Type 2: Runtime Errors\n",
    "3. Type 3: Logic\n",
    "\n",
    "#### Common Exception Types\n",
    "\n",
    "1. NullReferenceException\n",
    "2. IndexOutOfRangeException\n",
    "3. InvalidOperationException\n",
    "4. FileNotFoundException\n",
    "5. DivideByZeroException"
   ]
  },
  {
   "cell_type": "markdown",
   "id": "726219db",
   "metadata": {},
   "source": [
    "| Technique            | Purpose / Use Case                          |\n",
    "|----------------------|---------------------------------------------|\n",
    "| `try-catch`          | General error handling                      |\n",
    "| `try-catch-finally`  | Cleanup code that always runs               |\n",
    "| `throw`              | Manually raising or rethrowing exceptions   |\n",
    "| `try-catch when`     | Conditional exception catching              |\n",
    "| `TryParse`           | Safe value parsing without throwing errors  |\n",
    "| Null checks / `?.`   | Prevent null reference exceptions           |\n",
    "| `using`              | Auto-dispose resources (e.g., files, streams)|\n"
   ]
  },
  {
   "cell_type": "markdown",
   "id": "49441199",
   "metadata": {},
   "source": [
    "https://learn.microsoft.com/en-us/training/modules/csharp-call-methods/1-introduction"
   ]
  }
 ],
 "metadata": {
  "kernelspec": {
   "display_name": ".NET (C#)",
   "language": "C#",
   "name": ".net-csharp"
  },
  "language_info": {
   "name": "C#"
  },
  "polyglot_notebook": {
   "kernelInfo": {
    "defaultKernelName": "csharp",
    "items": [
     {
      "aliases": [],
      "name": "csharp"
     }
    ]
   }
  }
 },
 "nbformat": 4,
 "nbformat_minor": 5
}
