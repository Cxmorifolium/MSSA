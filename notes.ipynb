{
 "cells": [
  {
   "cell_type": "markdown",
   "id": "24f86ec8",
   "metadata": {},
   "source": [
    "# Week 1 Notes"
   ]
  },
  {
   "cell_type": "markdown",
   "id": "c15dceaa",
   "metadata": {},
   "source": [
    "## Data Types\n",
    "https://learn.microsoft.com/en-us/office/vba/language/reference/user-interface-help/data-type-summary"
   ]
  },
  {
   "cell_type": "markdown",
   "id": "61ebfb86",
   "metadata": {},
   "source": [
    "What does 32-bit mean?\n",
    "\n",
    "A 32-bit signed integer uses 32 binary digits (bits) to store a number.\n",
    "\n",
    "+ 1 of those bits is used for the sign (positive or negative)\n",
    "\n",
    "+ 31 bits are used for the actual value\n",
    "\n",
    "\n",
    "Signed vs Unsigned:\n",
    "\n",
    "+ Signed int (int): uses 1 bit for the sign\n",
    "    + Range: -2,147,483,648 to 2,147,483,647\n",
    "\n",
    "+ Unsigned int (uint): uses all 32 bits for positive numbers only\n",
    "    + Range: 0 to 4,294,967,295 (that's 2^32 - 1)"
   ]
  },
  {
   "cell_type": "markdown",
   "id": "1f9ac44e",
   "metadata": {},
   "source": [
    "## Casing Conventions"
   ]
  },
  {
   "cell_type": "markdown",
   "id": "0f4cd659",
   "metadata": {},
   "source": [
    "+ Camel -> myName\n",
    "+ Pascal -> MyName"
   ]
  },
  {
   "cell_type": "markdown",
   "id": "7425cbb1",
   "metadata": {},
   "source": []
  },
  {
   "cell_type": "markdown",
   "id": "ae892b42",
   "metadata": {},
   "source": [
    "Natural numbers = 1 - 10; what you can count\n",
    "\n",
    "Assignment =\n",
    "Expression ==\n",
    "Condition == boolean"
   ]
  },
  {
   "cell_type": "markdown",
   "id": "8ff75533",
   "metadata": {},
   "source": [
    "method parameter: variable definition\n",
    "method argument: what you are passing when you call method"
   ]
  },
  {
   "cell_type": "markdown",
   "id": "c8222cc6",
   "metadata": {},
   "source": [
    "## Array\n",
    "\n",
    "Array of size n: Last element index is n-1"
   ]
  },
  {
   "cell_type": "markdown",
   "id": "002a2919",
   "metadata": {},
   "source": []
  },
  {
   "cell_type": "markdown",
   "id": "251b83c3",
   "metadata": {},
   "source": []
  }
 ],
 "metadata": {
  "kernelspec": {
   "display_name": ".NET (C#)",
   "language": "C#",
   "name": ".net-csharp"
  },
  "language_info": {
   "name": "C#"
  }
 },
 "nbformat": 4,
 "nbformat_minor": 5
}
